{
 "cells": [
  {
   "cell_type": "code",
   "execution_count": null,
   "id": "fe9677d7-5879-40ca-91d6-38ef8154f136",
   "metadata": {},
   "outputs": [],
   "source": []
  },
  {
   "cell_type": "code",
   "execution_count": null,
   "id": "a3cfac95-0ce3-471a-a704-267aaa4e2d6c",
   "metadata": {},
   "outputs": [],
   "source": [
    "# ============================== #\n",
    "# ==== speed, left, reverse ==== #\n",
    "# ============================== #\n",
    "path_edges = \"./traces-left-reverse-parking/train-safe/speed_automata_edges\"\n",
    "# path_edges = \"./traces-left-reverse-parking/test-unsafe/speed_automata_edges\"\n",
    "# path_edges = \"./traces-left-reverse-parking/test-safe/speed_automata_edges\"\n",
    "\n",
    "# edge format: (state1, state2, edge label)\n",
    "\n",
    "# dfa-left-reverse-speed.dot\n",
    "edges = [(4,3,3),(0,0,0),(0,5,5),(0,1,1),(2,2,2),(1,1,1),(6,6,6),(2,0,0),(2,1,1),(1,0,0),(5,3,3),(5,6,6),(0,6,6),(6,5,5),(6,4,4),(3,2,2),(4,2,2),(3,1,1),(6,3,3),]\n",
    "guards = {\n",
    "    # edge label: [lower, upper)\n",
    "    i: (i*0.3, (i+1)*0.3)\n",
    "    for i in range(10)\n",
    "}\n",
    "\n",
    "print(f\"#edges: {len(edges)}, #states: {len(set([p[0] for p in edges]+[p[1] for p in edges]))}\")"
   ]
  },
  {
   "cell_type": "code",
   "execution_count": null,
   "id": "98a56ac0-0cff-4734-b7e1-2d2ee95f2a74",
   "metadata": {},
   "outputs": [],
   "source": [
    "# =============================== #\n",
    "# ==== speed, right, reverse ==== #\n",
    "# =============================== #\n",
    "path_edges = \"./traces-right-reverse-parking/train-safe/speed_automata_edges\"\n",
    "# path_edges = \"./traces-right-reverse-parking/test-unsafe/speed_automata_edges\"\n",
    "# path_edges = \"./traces-right-reverse-parking/test-safe/speed_automata_edges\"\n",
    "\n",
    "# edge format: (state1, state2, edge label)\n",
    "\n",
    "# dfa-right-reverse-speed.dot\n",
    "edges = [(0,5,5),(6,3,3),(0,0,0),(2,1,1),(4,2,2),(0,6,6),(1,0,0),(5,3,3),(6,6,6),(6,5,5),(6,4,4),(3,1,1),(4,3,3),(3,2,2),(5,6,6),(1,1,1),(0,1,1),(2,0,0),]\n",
    "guards = {\n",
    "    # edge label: [lower, upper)\n",
    "    i: (i*0.3, (i+1)*0.3)\n",
    "    for i in range(10)\n",
    "}\n",
    "\n",
    "print(f\"#edges: {len(edges)}, #states: {len(set([p[0] for p in edges]+[p[1] for p in edges]))}\")"
   ]
  },
  {
   "cell_type": "code",
   "execution_count": null,
   "id": "c7a752d6-a249-4f82-9529-646676d47c71",
   "metadata": {},
   "outputs": [],
   "source": [
    "# ================================= #\n",
    "# ==== steering, left, reverse ==== #\n",
    "# ================================= #\n",
    "# path_edges = \"./traces-left-reverse-parking/train-safe/steering_automata_edges\"\n",
    "# path_edges = \"./traces-left-reverse-parking/test-unsafe/steering_automata_edges\"\n",
    "path_edges = \"./traces-left-reverse-parking/test-safe/steering_automata_edges\"\n",
    "\n",
    "# edge format: (state1, state2, edge label)\n",
    "\n",
    "# fine-dfa-left-reverse-steering.dot\n",
    "edges = [(83,80,80),(108,106,106),(117,112,112),(109,91,91),(106,82,82),(120,112,112),(121,119,119),(107,108,108),(110,109,109),(108,101,101),(91,80,80),(118,113,113),(113,110,110),(121,113,113),(106,87,87),(118,112,112),(106,83,83),(118,115,115),(106,108,108),(102,80,80),(110,92,92),(113,108,108),(117,114,114),(108,104,104),(108,110,110),(87,80,80),(105,92,92),(112,109,109),(121,112,112),(109,109,109),(114,108,108),(121,115,115),(105,80,80),(118,116,116),(101,80,80),(119,112,112),(107,109,109),(104,104,104),(119,115,115),(80,121,121),(108,109,109),(105,97,97),(109,86,86),(109,102,102),(121,116,116),(121,121,121),(111,82,82),(109,82,82),(105,105,105),(121,118,118),(112,107,107),(105,93,93),(96,80,80),(107,104,104),(109,80,80),(0,80,80),(119,118,118),(104,103,103),(104,105,105),(107,80,80),(109,111,111),(108,107,107),(80,120,120),(108,80,80),(104,106,106),(106,92,92),(115,113,113),(121,120,120),(120,117,117),(93,80,80),(106,80,80),(108,111,111),(80,118,118),(109,110,110),(117,113,113),(113,109,109),(105,83,83),(110,82,82),(112,108,108),(110,87,87),(119,116,116),(108,105,105),(86,80,80),(105,106,106),(105,87,87),(116,114,114),(116,113,113),(121,117,117),(107,107,107),(105,107,107),(106,98,98),(110,91,91),(97,80,80),(106,106,106),(108,108,108),(109,96,96),(92,80,80),(119,117,117),(82,80,80),(115,114,114),(110,86,86),(106,107,107),(105,104,104),(113,107,107),(105,102,102),(109,106,106),(80,80,80),(107,105,105),(120,113,113),(114,107,107),(110,80,80),(109,101,101),(98,80,80),(103,104,104),(109,108,108),(111,80,80),(80,119,119),(107,106,106),]\n",
    "guards = {\n",
    "    # edge label: [lower, upper)\n",
    "    i+80: (i*12, (i+1)*12)\n",
    "    for i in range(-80, 80)\n",
    "}\n",
    "\n",
    "# # dfa-left-reverse-steering.dot\n",
    "# edges = [(15,15,15),(14,14,14),(10,10,10),(13,13,13),(14,13,13),(10,15,15),(0,10,10),(12,10,10),(13,10,10),(15,14,14),(12,13,13),(13,11,11),(13,12,12),(11,10,10),(10,14,14)]\n",
    "# guards = {\n",
    "#     # edge label: [lower, upper)\n",
    "#     i+10: (i*96, (i+1)*96)\n",
    "#     for i in range(-10, 10)\n",
    "# }\n",
    "\n",
    "print(f\"#edges: {len(edges)}, #states: {len(set([p[0] for p in edges]+[p[1] for p in edges]))}\")"
   ]
  },
  {
   "cell_type": "code",
   "execution_count": null,
   "id": "bd8e2323-9a3a-4e64-904e-67cf2445bcf2",
   "metadata": {},
   "outputs": [],
   "source": [
    "# ================================== #\n",
    "# ==== steering, right, reverse ==== #\n",
    "# ================================== #\n",
    "# path_edges = \"./traces-right-reverse-parking/train-safe/steering_automata_edges\"\n",
    "path_edges = \"./traces-right-reverse-parking/test-unsafe/steering_automata_edges\"\n",
    "# path_edges = \"./traces-right-reverse-parking/test-safe/steering_automata_edges\"\n",
    "\n",
    "# edge format: (state1, state2, edge label)\n",
    "\n",
    "# # fine-dfa-right-reverse-steering.dot\n",
    "# edges = [(47,47,47),(56,54,54),(53,80,80),(50,49,49),(42,47,47),(55,58,58),(55,54,54),(38,43,43),(49,51,51),(38,41,41),(44,55,55),(52,53,53),(54,77,77),(57,56,56),(43,55,55),(42,48,48),(0,80,80),(55,60,60),(51,80,80),(48,49,49),(74,80,80),(80,80,80),(64,80,80),(58,58,58),(46,80,80),(44,51,51),(59,80,80),(54,52,52),(53,56,56),(42,52,52),(43,56,56),(50,48,48),(56,56,56),(55,68,68),(47,54,54),(47,46,46),(60,61,61),(57,80,80),(38,42,42),(73,80,80),(44,49,49),(42,54,54),(45,80,80),(56,59,59),(46,64,64),(43,53,53),(55,74,74),(50,50,50),(55,63,63),(57,55,55),(44,53,53),(56,65,65),(55,78,78),(56,55,55),(48,50,50),(56,80,80),(55,55,55),(53,57,57),(49,50,50),(54,57,57),(53,51,51),(48,46,46),(42,56,56),(60,58,58),(47,50,50),(49,80,80),(44,52,52),(56,64,64),(48,47,47),(51,51,51),(55,64,64),(60,60,60),(72,80,80),(43,49,49),(52,51,51),(41,46,46),(54,54,54),(61,60,60),(52,52,52),(53,53,53),(42,46,46),(47,80,80),(58,56,56),(42,55,55),(54,58,58),(80,38,38),(47,55,55),(51,49,49),(55,59,59),(43,47,47),(47,45,45),(52,54,54),(65,80,80),(55,80,80),(46,49,49),(58,59,59),(78,80,80),(68,80,80),(51,54,54),(51,53,53),(55,77,77),(49,49,49),(56,60,60),(50,80,80),(38,45,45),(59,59,59),(43,48,48),(63,80,80),(47,64,64),(54,56,56),(56,57,57),(46,69,69),(43,51,51),(47,49,49),(53,52,52),(48,80,80),(43,52,52),(58,80,80),(42,50,50),(58,57,57),(46,48,48),(48,45,45),(59,57,57),(49,48,48),(54,72,72),(42,53,53),(54,78,78),(69,80,80),(51,50,50),(44,54,54),(55,53,53),(52,50,50),(54,80,80),(43,54,54),(51,52,52),(53,55,55),(57,57,57),(47,48,48),(50,53,53),(77,80,80),(55,69,69),(46,54,54),(55,73,73),(56,69,69),(38,44,44),(42,51,51),(52,80,80),(61,59,59),(59,58,58),(45,50,50),(52,55,55),(60,59,59),(46,47,47),(57,54,54),(60,80,80),(44,56,56),(46,60,60),(49,47,47),(50,51,51),(59,60,60),(50,52,52),(48,48,48),(57,58,58),(43,50,50),(38,38,38),(54,53,53),(61,61,61),(44,50,50),]\n",
    "# guards = {\n",
    "#     # edge label: [lower, upper)\n",
    "#     i+80: (i*12, (i+1)*12)\n",
    "#     for i in range(-80, 80)\n",
    "# }\n",
    "\n",
    "# dfa-right-reverse-steering.dot\n",
    "edges = [(4,5,5),(6,7,7),(6,9,9),(10,10,10),(5,5,5),(6,8,8),(7,7,7),(10,4,4),(7,8,8),(5,6,6),(7,10,10),(5,7,7),(6,10,10),(5,8,8),(4,4,4),(0,10,10),(5,10,10),(7,6,6),(6,6,6),(8,10,10),(6,5,5),(9,10,10)]\n",
    "guards = {\n",
    "    # edge label: [lower, upper)\n",
    "    i+10: (i*96, (i+1)*96)\n",
    "    for i in range(-10, 10)\n",
    "}\n",
    "\n",
    "print(f\"#edges: {len(edges)}, #states: {len(set([p[0] for p in edges]+[p[1] for p in edges]))}\")"
   ]
  },
  {
   "cell_type": "code",
   "execution_count": null,
   "id": "b6a3bd43-211a-4b1b-9763-6e8644fc3ea3",
   "metadata": {},
   "outputs": [],
   "source": []
  },
  {
   "cell_type": "code",
   "execution_count": null,
   "id": "946e54c6-5972-4efb-afc5-924388fb8865",
   "metadata": {},
   "outputs": [],
   "source": [
    "class StateMachine:\n",
    "\n",
    "    def __init__(self, edges, guards):\n",
    "        self.current_state = 0\n",
    "        self.edges = edges\n",
    "        self.guards = guards\n",
    "\n",
    "    def reset(self, state=0):\n",
    "        self.current_state = state\n",
    "\n",
    "    def step(self, ev):\n",
    "        for edge in self.edges:\n",
    "            if edge[0] == self.current_state:\n",
    "                rp = (self.guards[edge[2]][0], self.guards[edge[2]][1])\n",
    "                if ev>=rp[0] and ev<rp[1]:\n",
    "                    self.current_state = edge[1]\n",
    "                    return True\n",
    "        return False"
   ]
  },
  {
   "cell_type": "code",
   "execution_count": null,
   "id": "15d5b6a5-8cd7-4c3f-a5e8-753d86d680d6",
   "metadata": {},
   "outputs": [],
   "source": []
  },
  {
   "cell_type": "code",
   "execution_count": null,
   "id": "9dacd951-8bf2-48bd-bf67-03b5561e1f49",
   "metadata": {},
   "outputs": [],
   "source": [
    "import re\n",
    "\n",
    "# path_edges = \"./traces-left-reverse-parking/speed_automata_edges\"\n",
    "# path_edges = \"./traces-left-reverse-parking/steering_automata_edges\"\n",
    "# path_edges = \"./traces-right-reverse-parking/speed_automata_edges\"\n",
    "# path_edges = \"./traces-right-reverse-parking/steering_automata_edges\"\n",
    "with open(path_edges, \"r\") as f:\n",
    "    raw_edges = f.read()\n",
    "\n",
    "str_edges = []\n",
    "for line in raw_edges.strip().split(\"\\n\"):\n",
    "    p = re.match(r\"\\[(.*?)\\]  -> \\((.*?)\\) \\[(.*)\\]\", line)\n",
    "    str_edges.append((p.group(1), p.group(2), p.group(3)))\n",
    "\n",
    "parsed_edges = [\n",
    "    # fixing a 7.235324e-0 missing digit issue here: treat it as a very small number\n",
    "    # (int(p[0]), 0.000001 if \"e\" in p[1] else float(p[1]), int(p[2]))\n",
    "    (int(p[0]), 0.0 if \"e\" in p[1] else round(float(p[1]), 2), int(p[2]))\n",
    "    for p in str_edges\n",
    "]"
   ]
  },
  {
   "cell_type": "code",
   "execution_count": null,
   "id": "c064c112-ff1e-4689-8001-c09210f746bd",
   "metadata": {},
   "outputs": [],
   "source": [
    "parsed_edges[-14]"
   ]
  },
  {
   "cell_type": "code",
   "execution_count": null,
   "id": "1d861bf2-99e1-4208-9e58-860b1dd02174",
   "metadata": {},
   "outputs": [],
   "source": [
    "# split into test cases\n",
    "last_pos = 0\n",
    "split_traces = []\n",
    "for i in range(len(parsed_edges)):\n",
    "    edge = parsed_edges[i]\n",
    "    if edge[0] == 0 and i > 0:\n",
    "        split_traces.append(parsed_edges[last_pos:i])\n",
    "        last_pos = i\n",
    "# add the last trace\n",
    "split_traces.append(parsed_edges[last_pos:])\n",
    "\n",
    "print(f\"total traces: {len(split_traces)}\")"
   ]
  },
  {
   "cell_type": "code",
   "execution_count": null,
   "id": "17745599-e0c9-4d2c-a383-97dd852c331b",
   "metadata": {},
   "outputs": [],
   "source": [
    "split_traces[0]"
   ]
  },
  {
   "cell_type": "code",
   "execution_count": null,
   "id": "50a0bff4-d3f9-485a-a04c-8f3aed8dff3f",
   "metadata": {},
   "outputs": [],
   "source": [
    "sm = StateMachine(edges, guards)"
   ]
  },
  {
   "cell_type": "code",
   "execution_count": null,
   "id": "71e33672-d3e0-4026-bdee-cafcad99f86f",
   "metadata": {},
   "outputs": [],
   "source": [
    "n_accepted = 0\n",
    "n_rejected = 0\n",
    "accepted_traces = []\n",
    "rejected_traces = []\n",
    "for i in range(len(split_traces)):\n",
    "    trace = split_traces[i]\n",
    "    sm = StateMachine(edges, guards)\n",
    "    accepted = True\n",
    "    for p in trace:\n",
    "        val = p[1]\n",
    "        res = sm.step(val)\n",
    "        if not res:\n",
    "            accepted = False\n",
    "            print(f\"  # stopped | state: {sm.current_state}, val: {val}\")\n",
    "            break\n",
    "    if accepted:\n",
    "        n_accepted += 1\n",
    "        accepted_traces.append(trace)\n",
    "    else:\n",
    "        n_rejected += 1\n",
    "        rejected_traces.append(trace)\n",
    "    print(f\"# trace: {i}, result: {accepted}\")\n",
    "print(f\"accepted: {n_accepted}, rejected: {n_rejected}\")"
   ]
  },
  {
   "cell_type": "code",
   "execution_count": null,
   "id": "0ec0032a-9c80-483e-b2df-d44c95ba353e",
   "metadata": {},
   "outputs": [],
   "source": []
  },
  {
   "cell_type": "code",
   "execution_count": null,
   "id": "ba66425d-9038-43ae-aa6f-6844392cc84f",
   "metadata": {},
   "outputs": [],
   "source": [
    "# for trace in rejected_traces:\n",
    "for trace in accepted_traces:\n",
    "    for p in trace:\n",
    "        print(p)\n",
    "    print()"
   ]
  },
  {
   "cell_type": "code",
   "execution_count": null,
   "id": "5134d032-b872-4ec4-80bb-6b26e2b93c60",
   "metadata": {},
   "outputs": [],
   "source": []
  }
 ],
 "metadata": {
  "kernelspec": {
   "display_name": "Python 3 (ipykernel)",
   "language": "python",
   "name": "python3"
  },
  "language_info": {
   "codemirror_mode": {
    "name": "ipython",
    "version": 3
   },
   "file_extension": ".py",
   "mimetype": "text/x-python",
   "name": "python",
   "nbconvert_exporter": "python",
   "pygments_lexer": "ipython3",
   "version": "3.12.0"
  }
 },
 "nbformat": 4,
 "nbformat_minor": 5
}
